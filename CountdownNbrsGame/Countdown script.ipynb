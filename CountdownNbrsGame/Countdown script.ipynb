{
 "cells": [
  {
   "cell_type": "code",
   "execution_count": 2,
   "metadata": {},
   "outputs": [],
   "source": [
    "import numpy as np\n",
    "import random as rand"
   ]
  },
  {
   "cell_type": "code",
   "execution_count": 3,
   "metadata": {},
   "outputs": [],
   "source": [
    "def numberpick(nbr_large, nbr_small):\n",
    "    large_ones = [25, 50, 75, 100]\n",
    "    small_ones = [i for i in range(1,11)]*2\n",
    "    urval = []\n",
    "    \n",
    "    if nbr_large + nbr_small != 6:\n",
    "        print('You have to pick 6 numbers')\n",
    "    if nbr_large >= 5:\n",
    "        print('Maximum 4 big ones')\n",
    "        \n",
    "    for i in range(0,nbr_large):\n",
    "        choice1 = rand.choice(large_ones)\n",
    "        urval.append(choice1)\n",
    "        large_ones.remove(choice1)\n",
    "    for j in range(0,nbr_small):\n",
    "        choice2 = rand.choice(small_ones)\n",
    "        urval.append(choice2)\n",
    "        small_ones.remove(choice2)\n",
    "        \n",
    "    target = rand.randint(100,999)\n",
    "    return urval,target\n",
    "\n"
   ]
  },
  {
   "cell_type": "code",
   "execution_count": 4,
   "metadata": {},
   "outputs": [],
   "source": [
    "def solver(sample):\n",
    "    \n",
    "    target = sample[1]\n",
    "    closest = 0\n",
    "    closeness = 1000\n",
    "    \n",
    "    for i in range(0,200):        #this for-loop is just to scramble the order of the numbers so that \n",
    "                                    #we perform the operations in different order every time \n",
    "                                    #(this could be more efficient and cleaner if one would make a \n",
    "                                    #permutation based sorting and run the script for each permutation of \n",
    "                                    #number-order, now we simply throw the numbers up in the air 200 \n",
    "                                    #times and hope that they land in every order they can land in at least once)\n",
    "        rand.shuffle(sample[0])\n",
    "        a = sample[0][0] #first number\n",
    "        b = sample[0][1] #second number\n",
    "        c = sample[0][2] #etc\n",
    "        d = sample[0][3]\n",
    "        e = sample[0][4]\n",
    "        f = sample[0][5]\n",
    "        for A in range(0,5):\n",
    "            for B in range(0,5):\n",
    "                for C in range(0,5):\n",
    "                    for D in range(0,5):\n",
    "                        for E in range(0,5):\n",
    "                            crypter = [A,B,C,D,E]\n",
    "                            \n",
    "                            if A == 0:\n",
    "                                p1 = a+b\n",
    "                            elif A == 1:\n",
    "                                p1 = a-b\n",
    "                            elif A == 2:\n",
    "                                p1 = a*b\n",
    "                            elif A == 3:\n",
    "                                p1 = a/b\n",
    "                            elif A == 4:\n",
    "                                p1 = a\n",
    "                                \n",
    "                            if B == 0:\n",
    "                                p2 = p1+c\n",
    "                            elif B == 1:\n",
    "                                p2 = p1-c\n",
    "                            elif B == 2:\n",
    "                                p2 = p1*c\n",
    "                            elif B == 3:\n",
    "                                p2 = p1/c\n",
    "                            elif B == 4:\n",
    "                                p2 = p1\n",
    "                                \n",
    "                            if C == 0:\n",
    "                                p3 = p2+d\n",
    "                            elif C == 1:\n",
    "                                p3 = p2-d\n",
    "                            elif C == 2:\n",
    "                                p3 = p2*d\n",
    "                            elif C == 3:\n",
    "                                p3 = p2/d\n",
    "                            elif C == 4:\n",
    "                                p3 = p2\n",
    "                                \n",
    "                            if D == 0:\n",
    "                                p4 = p3+e\n",
    "                            elif D == 1:\n",
    "                                p4 = p3-e\n",
    "                            elif D == 2:\n",
    "                                p4 = p3*e\n",
    "                            elif D == 3:\n",
    "                                p4 = p3/e\n",
    "                            elif D == 4:\n",
    "                                p4 = p3\n",
    "                            if E == 0:\n",
    "                                p5 = p4+f\n",
    "                            elif E == 1:\n",
    "                                p5 = p4-f\n",
    "                            elif E == 2:\n",
    "                                p5 = p4*f\n",
    "                            elif E == 3:\n",
    "                                p5 = p4/f\n",
    "                            elif E == 4:\n",
    "                                p5 = p4\n",
    "                            \n",
    "                            if abs(target - p5) < closeness:\n",
    "                                closeness = abs(target - p5)\n",
    "                                closest = p5\n",
    "                                result = p5\n",
    "                                right_op = crypter\n",
    "                                right_numbers = [a,b,c,d,e,f]\n",
    "    operatz = ['+','-','*','/',' ignore ']\n",
    "    tot_rights = [right_numbers[0],operatz[right_op[0]], right_numbers[1],operatz[right_op[1]], right_numbers[2],operatz[right_op[2]], right_numbers[3],operatz[right_op[3]], right_numbers[4],operatz[right_op[4]], right_numbers[5]]\n",
    "    return result, target, tot_rights\n",
    "    \n",
    "                   "
   ]
  },
  {
   "cell_type": "code",
   "execution_count": 308,
   "metadata": {},
   "outputs": [
    {
     "data": {
      "text/plain": [
       "([25, 100, 10, 3, 7, 2], 170)"
      ]
     },
     "execution_count": 308,
     "metadata": {},
     "output_type": "execute_result"
    }
   ],
   "source": [
    "sample = numberpick(2,4)\n",
    "sample"
   ]
  },
  {
   "cell_type": "code",
   "execution_count": 309,
   "metadata": {},
   "outputs": [
    {
     "data": {
      "text/plain": [
       "(170, 170, [10, '-', 3, ' ignore ', 100, '*', 25, '-', 7, '+', 2])"
      ]
     },
     "execution_count": 309,
     "metadata": {},
     "output_type": "execute_result"
    }
   ],
   "source": [
    "solver(sample)"
   ]
  },
  {
   "cell_type": "code",
   "execution_count": 1,
   "metadata": {},
   "outputs": [
    {
     "data": {
      "text/plain": [
       "170"
      ]
     },
     "execution_count": 1,
     "metadata": {},
     "output_type": "execute_result"
    }
   ],
   "source": [
    "(10-3)*25-7+2"
   ]
  },
  {
   "cell_type": "code",
   "execution_count": 220,
   "metadata": {},
   "outputs": [],
   "source": [
    "# test to see how many times we get the right answer:\n",
    "count = 0\n",
    "l = 1000\n",
    "for i in range(0,l-1):\n",
    "    larges = rand.randint(0,4)\n",
    "    smalls = 6-larges\n",
    "    samp = numberpick(larges,smalls)\n",
    "    res,tar,_ = solver(sample)\n",
    "    if res == tar:\n",
    "        count +=1\n",
    "\n",
    "print(count/l)\n",
    "        \n",
    "# approx 99% of the time it gets the correct answer"
   ]
  },
  {
   "cell_type": "code",
   "execution_count": 5,
   "metadata": {},
   "outputs": [],
   "source": [
    "def game():\n",
    "    numbers = []\n",
    "    for i in range(1,7):\n",
    "        inp = int(input('Number ' + str(i) + ': '))\n",
    "        numbers.append(inp)\n",
    "    targ = int(input('Aaand the target..: '))\n",
    "    inpvec = [numbers, targ]\n",
    "    res,tar,meth = solver(inpvec)\n",
    "    \n",
    "    return res,tar,meth\n"
   ]
  },
  {
   "cell_type": "code",
   "execution_count": 6,
   "metadata": {},
   "outputs": [
    {
     "name": "stdout",
     "output_type": "stream",
     "text": [
      "Number 1: 75\n",
      "Number 2: 25\n",
      "Number 3: 6\n",
      "Number 4: 6\n",
      "Number 5: 2\n",
      "Number 6: 1\n",
      "Aaand the target..: 785\n"
     ]
    },
    {
     "data": {
      "text/plain": [
       "(785, 785, [2, '*', 75, '+', 6, '-', 25, '*', 6, '-', 1])"
      ]
     },
     "execution_count": 6,
     "metadata": {},
     "output_type": "execute_result"
    }
   ],
   "source": [
    "game()"
   ]
  },
  {
   "cell_type": "code",
   "execution_count": 7,
   "metadata": {},
   "outputs": [
    {
     "data": {
      "text/plain": [
       "785"
      ]
     },
     "execution_count": 7,
     "metadata": {},
     "output_type": "execute_result"
    }
   ],
   "source": [
    "(2*75+6-25)*6-1"
   ]
  },
  {
   "cell_type": "code",
   "execution_count": null,
   "metadata": {},
   "outputs": [],
   "source": []
  },
  {
   "cell_type": "code",
   "execution_count": null,
   "metadata": {},
   "outputs": [],
   "source": []
  },
  {
   "cell_type": "code",
   "execution_count": null,
   "metadata": {},
   "outputs": [],
   "source": [
    "### AI-solution ###"
   ]
  }
 ],
 "metadata": {
  "kernelspec": {
   "display_name": "Python 3",
   "language": "python",
   "name": "python3"
  },
  "language_info": {
   "codemirror_mode": {
    "name": "ipython",
    "version": 3
   },
   "file_extension": ".py",
   "mimetype": "text/x-python",
   "name": "python",
   "nbconvert_exporter": "python",
   "pygments_lexer": "ipython3",
   "version": "3.7.5"
  }
 },
 "nbformat": 4,
 "nbformat_minor": 2
}
